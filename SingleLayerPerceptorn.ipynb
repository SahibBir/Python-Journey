{
 "cells": [
  {
   "cell_type": "markdown",
   "id": "integrated-therapy",
   "metadata": {},
   "source": [
    "# SUBMITTED BY: SAHIB BIR SINGH BHATIA"
   ]
  },
  {
   "cell_type": "markdown",
   "id": "wireless-broad",
   "metadata": {},
   "source": [
    "# STUDENT ID:201547831"
   ]
  },
  {
   "cell_type": "markdown",
   "id": "respiratory-primary",
   "metadata": {},
   "source": [
    "# EMAIL: S.Bhatia2@liverpool.ac.uk"
   ]
  },
  {
   "cell_type": "markdown",
   "id": "processed-cargo",
   "metadata": {},
   "source": [
    "# SIMPLE PERCEPTRON IMPLEMENTATION"
   ]
  },
  {
   "cell_type": "code",
   "execution_count": 127,
   "id": "ranging-sessions",
   "metadata": {},
   "outputs": [],
   "source": [
    "import numpy as np\n",
    "from matplotlib.colors import ListedColormap\n",
    "class Perceptron(object):\n",
    "    \"\"\"\n",
    "    This class provides utility functions to train and test the perceptron model\n",
    "    1. train(self,data) is used to train the perceptron on the given dataset\n",
    "    2. activation_score(self,X) returns the activation score value by doing dot product of weight and \n",
    "    feature vector X\n",
    "    3. predict(self,X) returns the predicted value of the datapoint either 1 or -1 for a feature vector in X\n",
    "    \"\"\"\n",
    "   \n",
    "    def __init__(self, eta=0.01, epoch=20):\n",
    "        self.eta = eta\n",
    "        self.epoch = epoch\n",
    "        self.lamb = 0\n",
    " \n",
    "    def train(self, X, y):\n",
    "        self.weights = np.zeros(1 + X.shape[1])\n",
    "        self.errors = []\n",
    "        for _ in range(self.epoch):\n",
    "            errors = 0\n",
    "            print(\"Epoch: \", _)\n",
    "            for xi, target in zip(X,y):\n",
    "                update = self.eta * (target - self.predict(xi))\n",
    "                self.weights[1:] += update * xi  # updating weights\n",
    "                self.weights[0] += update  # updating bias\n",
    "                errors += int(update != 0.0)\n",
    "            self.errors.append(errors)\n",
    "            print(\"Weights: \", self.weights)\n",
    "        return self\n",
    " \n",
    "    def activationScore(self, X):\n",
    "        \"\"\"\n",
    "        Computing activation score\n",
    "        \"\"\"\n",
    "        X = X.astype(np.float128)\n",
    "        return np.dot(X, self.weights[1:]) + self.weights[0]\n",
    " \n",
    "    def predict(self, X):\n",
    "        \"\"\"\n",
    "        Predicting value based on threshold\n",
    "        \"\"\"\n",
    "        X = X.astype(np.float128)\n",
    "        return np.where(self.activationScore(X) >= 0.0, 1, -1)"
   ]
  },
  {
   "cell_type": "markdown",
   "id": "third-bunch",
   "metadata": {},
   "source": [
    "IRIS SPECIES DATASET"
   ]
  },
  {
   "cell_type": "code",
   "execution_count": 13,
   "id": "bronze-facial",
   "metadata": {},
   "outputs": [],
   "source": [
    "\"Change the path of the file accordingly\"\n",
    "import pandas as pd\n",
    "import matplotlib.pyplot as plt\n",
    "df = pd.read_csv('/Users/sahibbhatia/Downloads/iris.data', header=None)"
   ]
  },
  {
   "cell_type": "markdown",
   "id": "differential-winner",
   "metadata": {},
   "source": [
    "IRIS SETOSA vs IRIS VERSICOLOR"
   ]
  },
  {
   "cell_type": "code",
   "execution_count": 15,
   "id": "processed-atlanta",
   "metadata": {},
   "outputs": [
    {
     "name": "stdout",
     "output_type": "stream",
     "text": [
      "Epoch:  0\n",
      "Weights:  [-0.2  -1.4  -0.94]\n",
      "Epoch:  1\n",
      "Weights:  [ 0.   -0.8  -1.32]\n",
      "Epoch:  2\n",
      "Weights:  [ 0.2 -0.2 -1.7]\n",
      "Epoch:  3\n",
      "Weights:  [ 0.2  -0.32 -2.12]\n",
      "Epoch:  4\n",
      "Weights:  [ 0.4   0.7  -1.84]\n",
      "Epoch:  5\n",
      "Weights:  [ 0.4   0.7  -1.84]\n",
      "Epoch:  6\n",
      "Weights:  [ 0.4   0.7  -1.84]\n",
      "Epoch:  7\n",
      "Weights:  [ 0.4   0.7  -1.84]\n",
      "Epoch:  8\n",
      "Weights:  [ 0.4   0.7  -1.84]\n",
      "Epoch:  9\n",
      "Weights:  [ 0.4   0.7  -1.84]\n",
      "Epoch:  10\n",
      "Weights:  [ 0.4   0.7  -1.84]\n",
      "Epoch:  11\n",
      "Weights:  [ 0.4   0.7  -1.84]\n",
      "Epoch:  12\n",
      "Weights:  [ 0.4   0.7  -1.84]\n",
      "Epoch:  13\n",
      "Weights:  [ 0.4   0.7  -1.84]\n",
      "Epoch:  14\n",
      "Weights:  [ 0.4   0.7  -1.84]\n",
      "Epoch:  15\n",
      "Weights:  [ 0.4   0.7  -1.84]\n",
      "Epoch:  16\n",
      "Weights:  [ 0.4   0.7  -1.84]\n",
      "Epoch:  17\n",
      "Weights:  [ 0.4   0.7  -1.84]\n",
      "Epoch:  18\n",
      "Weights:  [ 0.4   0.7  -1.84]\n",
      "Epoch:  19\n",
      "Weights:  [ 0.4   0.7  -1.84]\n"
     ]
    },
    {
     "data": {
      "image/png": "[encoded data removed]",
      "text/plain": [
       "<Figure size 432x288 with 1 Axes>"
      ]
     },
     "metadata": {
      "needs_background": "light"
     },
     "output_type": "display_data"
    }
   ],
   "source": [
    "ppn1 = Perceptron(eta=0.1, epoch=20)\n",
    "y = df.iloc[0:100, 4].values\n",
    "y = np.where(y == 'Iris-setosa', 1, -1)\n",
    "X = df.iloc[0:100,[0,2]].values\n",
    "ppn1.train(X, y)\n",
    "plt.plot(range(1, len(ppn1.errors) + 1), ppn1.errors, marker='o')\n",
    "plt.xlabel('Epochs')\n",
    "plt.ylabel('Number of misclassifications')\n",
    "plt.show()"
   ]
  },
  {
   "cell_type": "code",
   "execution_count": 23,
   "id": "bound-nebraska",
   "metadata": {},
   "outputs": [
    {
     "data": {
      "text/plain": [
       "100.0"
      ]
     },
     "execution_count": 23,
     "metadata": {},
     "output_type": "execute_result"
    }
   ],
   "source": [
    "def accuracy(actual, predicted):\n",
    "    \"\"\"\n",
    "    Accuracy function\n",
    "    :param actual:\n",
    "    :param predicted:\n",
    "    :return:\n",
    "    \"\"\"\n",
    "    correct = 0\n",
    "    for i in range(len(actual)):\n",
    "        if int(actual[i]) == predicted[i]:\n",
    "            correct += 1\n",
    "    return correct / float(len(actual)) * 100.0\n",
    "\n",
    "accClass1v2 = []\n",
    "class1v2PredictedY = ppn1.predict(X)\n",
    "accClass1v2.append(accuracy(y, class1v2PredictedY))\n",
    "sum(accClass1v2) / len(accClass1v2)"
   ]
  },
  {
   "cell_type": "code",
   "execution_count": 7,
   "id": "authentic-doctor",
   "metadata": {},
   "outputs": [
    {
     "name": "stderr",
     "output_type": "stream",
     "text": [
      "*c* argument looks like a single numeric RGB or RGBA sequence, which should be avoided as value-mapping will have precedence in case its length matches with *x* & *y*.  Please use the *color* keyword-argument or provide a 2-D array with a single row if you intend to specify the same RGB or RGBA value for all points.\n",
      "*c* argument looks like a single numeric RGB or RGBA sequence, which should be avoided as value-mapping will have precedence in case its length matches with *x* & *y*.  Please use the *color* keyword-argument or provide a 2-D array with a single row if you intend to specify the same RGB or RGBA value for all points.\n"
     ]
    },
    {
     "data": {
      "text/plain": [
       "<matplotlib.legend.Legend at 0x7f91aa5d52e0>"
      ]
     },
     "execution_count": 7,
     "metadata": {},
     "output_type": "execute_result"
    },
    {
     "data": {
      "image/png": "[encoded data removed]",
      "text/plain": [
       "<Figure size 432x288 with 1 Axes>"
      ]
     },
     "metadata": {
      "needs_background": "light"
     },
     "output_type": "display_data"
    }
   ],
   "source": [
    "def plot_decision_regions(X, y, classifier, resolution=0.02):\n",
    "    # setup marker generator and color map\n",
    "    markers = ('s', 'x', 'o', '^', 'v')\n",
    "    colors = ('orange', 'green', 'lightgreen', 'gray', 'cyan')\n",
    "    cmap = ListedColormap(colors[:len(np.unique(y))])\n",
    "    # plot the decision surface\n",
    "    x1_min, x1_max = X[:, 0].min() - 1, X[:, 0].max() + 1\n",
    "    x2_min, x2_max = X[:, 1].min() - 1, X[:, 1].max() + 1\n",
    "    xx1, xx2 = np.meshgrid(np.arange(x1_min, x1_max, resolution),\n",
    "                           np.arange(x2_min, x2_max, resolution))\n",
    "    Z = classifier.predict(np.array([xx1.ravel(), xx2.ravel()]).T)\n",
    "    Z = Z.reshape(xx1.shape)\n",
    "    plt.contourf(xx1, xx2, Z, alpha=0.4, cmap=cmap)\n",
    "    plt.xlim(xx1.min(), xx1.max())\n",
    "    plt.ylim(xx2.min(), xx2.max())\n",
    "    # plot class samples\n",
    "    for idx, cl in enumerate(np.unique(y)):\n",
    "        plt.scatter(x=X[y == cl, 0], y=X[y == cl, 1],\n",
    "                    alpha=1, c=cmap(idx),\n",
    "                    marker=markers[idx], label=cl)\n",
    "\n",
    "# Showing the final results of the perceptron model.\n",
    "plot_decision_regions(X, y, classifier=ppn)\n",
    "plt.xlabel('Sepal Length [cm]')\n",
    "plt.ylabel('Petal Length [cm]')\n",
    "plt.legend()"
   ]
  },
  {
   "cell_type": "markdown",
   "id": "liquid-pattern",
   "metadata": {},
   "source": [
    "IRIS VERSICOLOR vs IRIS VIRGINICA"
   ]
  },
  {
   "cell_type": "code",
   "execution_count": 10,
   "id": "configured-following",
   "metadata": {},
   "outputs": [
    {
     "name": "stdout",
     "output_type": "stream",
     "text": [
      "Epoch:  0\n",
      "Weights:  [-0.2  -1.26 -1.2 ]\n",
      "Epoch:  1\n",
      "Weights:  [ 0.    0.16 -0.56]\n",
      "Epoch:  2\n",
      "Weights:  [ 0.    0.3  -0.82]\n",
      "Epoch:  3\n",
      "Weights:  [ 0.    0.44 -1.08]\n",
      "Epoch:  4\n",
      "Weights:  [ 0.    0.58 -1.34]\n",
      "Epoch:  5\n",
      "Weights:  [ 0.    0.72 -1.6 ]\n",
      "Epoch:  6\n",
      "Weights:  [ 0.    0.86 -1.86]\n",
      "Epoch:  7\n",
      "Weights:  [ 0.    1.   -2.12]\n",
      "Epoch:  8\n",
      "Weights:  [ 0.    1.14 -2.38]\n",
      "Epoch:  9\n",
      "Weights:  [ 0.    1.28 -2.64]\n",
      "Epoch:  10\n",
      "Weights:  [ 0.    1.42 -2.9 ]\n",
      "Epoch:  11\n",
      "Weights:  [ 0.    1.56 -3.16]\n",
      "Epoch:  12\n",
      "Weights:  [ 0.    1.7  -3.42]\n",
      "Epoch:  13\n",
      "Weights:  [ 0.    1.84 -3.68]\n",
      "Epoch:  14\n",
      "Weights:  [ 0.    1.98 -3.94]\n",
      "Epoch:  15\n",
      "Weights:  [ 0.    2.12 -4.2 ]\n",
      "Epoch:  16\n",
      "Weights:  [ 0.    2.26 -4.46]\n",
      "Epoch:  17\n",
      "Weights:  [ 0.    2.4  -4.72]\n",
      "Epoch:  18\n",
      "Weights:  [ 0.    2.54 -4.98]\n",
      "Epoch:  19\n",
      "Weights:  [ 0.    2.68 -5.24]\n"
     ]
    },
    {
     "data": {
      "image/png": "[encoded data removed]",
      "text/plain": [
       "<Figure size 432x288 with 1 Axes>"
      ]
     },
     "metadata": {
      "needs_background": "light"
     },
     "output_type": "display_data"
    }
   ],
   "source": [
    "ppn2 = Perceptron(eta=0.1, epoch=20)\n",
    "y = df.iloc[50:, 4].values\n",
    "y = np.where(y == 'Iris-versicolor', 1, -1)\n",
    "X = df.iloc[50:,[0,2]].values\n",
    "ppn2.train(X, y)\n",
    "plt.plot(range(1, len(ppn2.errors) + 1), ppn2.errors, marker='o')\n",
    "plt.xlabel('Epochs')\n",
    "plt.ylabel('Number of misclassifications')\n",
    "plt.show()"
   ]
  },
  {
   "cell_type": "code",
   "execution_count": 24,
   "id": "continental-music",
   "metadata": {},
   "outputs": [
    {
     "data": {
      "text/plain": [
       "100.0"
      ]
     },
     "execution_count": 24,
     "metadata": {},
     "output_type": "execute_result"
    }
   ],
   "source": [
    "# Accuracy\n",
    "accClass2v3 = []\n",
    "class2v3PredictedY = ppn2.predict(X)\n",
    "accClass2v3.append(accuracy(y, class2v3PredictedY))\n",
    "sum(accClass2v3) / len(accClass2v3)"
   ]
  },
  {
   "cell_type": "code",
   "execution_count": 17,
   "id": "burning-jimmy",
   "metadata": {},
   "outputs": [
    {
     "name": "stderr",
     "output_type": "stream",
     "text": [
      "*c* argument looks like a single numeric RGB or RGBA sequence, which should be avoided as value-mapping will have precedence in case its length matches with *x* & *y*.  Please use the *color* keyword-argument or provide a 2-D array with a single row if you intend to specify the same RGB or RGBA value for all points.\n",
      "*c* argument looks like a single numeric RGB or RGBA sequence, which should be avoided as value-mapping will have precedence in case its length matches with *x* & *y*.  Please use the *color* keyword-argument or provide a 2-D array with a single row if you intend to specify the same RGB or RGBA value for all points.\n"
     ]
    },
    {
     "data": {
      "image/png": "[encoded data removed]",
      "text/plain": [
       "<Figure size 432x288 with 1 Axes>"
      ]
     },
     "metadata": {
      "needs_background": "light"
     },
     "output_type": "display_data"
    }
   ],
   "source": [
    "plot_decision_regions(X, y, classifier=ppn2)\n",
    "plt.xlabel('Sepal Length [cm]')\n",
    "plt.ylabel('Petal Length [cm]')\n",
    "plt.legend()\n",
    "plt.show()"
   ]
  },
  {
   "cell_type": "markdown",
   "id": "complicated-teens",
   "metadata": {},
   "source": [
    "IRIS SETOSA vs IRIS VIRGINICA"
   ]
  },
  {
   "cell_type": "code",
   "execution_count": 83,
   "id": "olympic-variation",
   "metadata": {},
   "outputs": [
    {
     "name": "stdout",
     "output_type": "stream",
     "text": [
      "Epoch:  0\n",
      "Weights:  [-0.2  -1.26 -1.2 ]\n",
      "Epoch:  1\n",
      "Weights:  [ 0.   -0.52 -1.84]\n",
      "Epoch:  2\n",
      "Weights:  [ 0.2   0.2  -2.38]\n",
      "Epoch:  3\n",
      "Weights:  [ 0.4   1.22 -2.1 ]\n",
      "Epoch:  4\n",
      "Weights:  [ 0.4   1.22 -2.1 ]\n",
      "Epoch:  5\n",
      "Weights:  [ 0.4   1.22 -2.1 ]\n",
      "Epoch:  6\n",
      "Weights:  [ 0.4   1.22 -2.1 ]\n",
      "Epoch:  7\n",
      "Weights:  [ 0.4   1.22 -2.1 ]\n",
      "Epoch:  8\n",
      "Weights:  [ 0.4   1.22 -2.1 ]\n",
      "Epoch:  9\n",
      "Weights:  [ 0.4   1.22 -2.1 ]\n",
      "Epoch:  10\n",
      "Weights:  [ 0.4   1.22 -2.1 ]\n",
      "Epoch:  11\n",
      "Weights:  [ 0.4   1.22 -2.1 ]\n",
      "Epoch:  12\n",
      "Weights:  [ 0.4   1.22 -2.1 ]\n",
      "Epoch:  13\n",
      "Weights:  [ 0.4   1.22 -2.1 ]\n",
      "Epoch:  14\n",
      "Weights:  [ 0.4   1.22 -2.1 ]\n",
      "Epoch:  15\n",
      "Weights:  [ 0.4   1.22 -2.1 ]\n",
      "Epoch:  16\n",
      "Weights:  [ 0.4   1.22 -2.1 ]\n",
      "Epoch:  17\n",
      "Weights:  [ 0.4   1.22 -2.1 ]\n",
      "Epoch:  18\n",
      "Weights:  [ 0.4   1.22 -2.1 ]\n",
      "Epoch:  19\n",
      "Weights:  [ 0.4   1.22 -2.1 ]\n"
     ]
    },
    {
     "data": {
      "image/png": "[encoded data removed]",
      "text/plain": [
       "<Figure size 432x288 with 1 Axes>"
      ]
     },
     "metadata": {
      "needs_background": "light"
     },
     "output_type": "display_data"
    }
   ],
   "source": [
    "ppn3 = Perceptron(eta=0.1, epoch=20)\n",
    "y1 = df.iloc[0:50, 4].values\n",
    "y2 = df.iloc[100:, 4].values\n",
    "y = np.concatenate([y1,y2],axis=0)\n",
    "y = np.where(y == 'Iris-setosa', 1, -1)\n",
    "x1 =  df.iloc[0:50,[0,2]].values\n",
    "x2 =  df.iloc[100:,[0,2]].values\n",
    "X = np.concatenate([x1,x2],axis=0)\n",
    "ppn3.train(X, y)\n",
    "plt.plot(range(1, len(ppn3.errors) + 1), ppn3.errors, marker='s')\n",
    "plt.xlabel('Epochs')\n",
    "plt.ylabel('Number of misclassifications')\n",
    "plt.show()"
   ]
  },
  {
   "cell_type": "code",
   "execution_count": 25,
   "id": "exempt-oriental",
   "metadata": {},
   "outputs": [
    {
     "data": {
      "text/plain": [
       "100.0"
      ]
     },
     "execution_count": 25,
     "metadata": {},
     "output_type": "execute_result"
    }
   ],
   "source": [
    "#Accuracy\n",
    "accClass1v3 = []\n",
    "class1v3PredictedY = ppn3.predict(X)\n",
    "accClass1v3.append(accuracy(y, class1v3PredictedY))\n",
    "sum(accClass1v3) / len(accClass1v3)"
   ]
  },
  {
   "cell_type": "code",
   "execution_count": 20,
   "id": "hybrid-condition",
   "metadata": {},
   "outputs": [
    {
     "name": "stderr",
     "output_type": "stream",
     "text": [
      "*c* argument looks like a single numeric RGB or RGBA sequence, which should be avoided as value-mapping will have precedence in case its length matches with *x* & *y*.  Please use the *color* keyword-argument or provide a 2-D array with a single row if you intend to specify the same RGB or RGBA value for all points.\n",
      "*c* argument looks like a single numeric RGB or RGBA sequence, which should be avoided as value-mapping will have precedence in case its length matches with *x* & *y*.  Please use the *color* keyword-argument or provide a 2-D array with a single row if you intend to specify the same RGB or RGBA value for all points.\n"
     ]
    },
    {
     "data": {
      "image/png": "[encoded data removed]",
      "text/plain": [
       "<Figure size 432x288 with 1 Axes>"
      ]
     },
     "metadata": {
      "needs_background": "light"
     },
     "output_type": "display_data"
    }
   ],
   "source": [
    "plot_decision_regions(X, y, classifier=ppn3)\n",
    "plt.xlabel('Sepal Length [cm]')\n",
    "plt.ylabel('Petal Length [cm]')\n",
    "plt.legend()\n",
    "plt.show()"
   ]
  },
  {
   "cell_type": "markdown",
   "id": "fitting-hacker",
   "metadata": {},
   "source": [
    "SONAR DATASET"
   ]
  },
  {
   "cell_type": "code",
   "execution_count": 112,
   "id": "worst-outside",
   "metadata": {},
   "outputs": [],
   "source": [
    "def readfile(filename):\n",
    "    \"\"\"\n",
    "    File loader and reader function\n",
    "    :param filename:\n",
    "    :return:\n",
    "    \"\"\"\n",
    "    arr = []\n",
    "    with open(filename) as file:\n",
    "        for line in file:\n",
    "            arr.append(line.rstrip().split(\",\"))\n",
    "        arr = np.array(arr)\n",
    "        l1 = arr[arr[:, -1] == \"M\"]\n",
    "        l2 = arr[arr[:, -1] == \"R\"]\n",
    "    return l1, l2"
   ]
  },
  {
   "cell_type": "code",
   "execution_count": 113,
   "id": "modified-tsunami",
   "metadata": {},
   "outputs": [],
   "source": [
    "\"Change the path of the file accordingly\"\n",
    "cl1, cl2 = readfile(\"/Users/sahibbhatia/Downloads/sonar.all-data\")"
   ]
  },
  {
   "cell_type": "code",
   "execution_count": 114,
   "id": "alpha-christian",
   "metadata": {},
   "outputs": [],
   "source": [
    "X1 = cl1[:50,[0,1,2,3]].astype(np.float64)\n",
    "X2 = cl2[:50,[0,1,2,3]].astype(np.float64)\n",
    "trainX = np.concatenate((X1,X2),axis=0)\n",
    "Y1 = cl1[:50,[-1]]\n",
    "Y2 = cl2[:50,[-1]]\n",
    "trainY = np.concatenate((Y1,Y2),axis=0)\n",
    "trainy = np.where(Y==\"M\",1,-1).astype(np.float64)"
   ]
  },
  {
   "cell_type": "code",
   "execution_count": 117,
   "id": "minus-royalty",
   "metadata": {},
   "outputs": [
    {
     "name": "stdout",
     "output_type": "stream",
     "text": [
      "Epoch:  0\n",
      "Weights:  [-0.2     -0.004   -0.00742 -0.00856 -0.00414]\n",
      "Epoch:  1\n",
      "Weights:  [-0.2      0.00182 -0.00926 -0.00528  0.01712]\n",
      "Epoch:  2\n",
      "Weights:  [-0.2      0.00764 -0.0111  -0.002    0.03838]\n",
      "Epoch:  3\n",
      "Weights:  [-0.2      0.01346 -0.01294  0.00128  0.05964]\n",
      "Epoch:  4\n",
      "Weights:  [-0.2      0.01928 -0.01478  0.00456  0.0809 ]\n",
      "Epoch:  5\n",
      "Weights:  [-0.2      0.0251  -0.01662  0.00784  0.10216]\n",
      "Epoch:  6\n",
      "Weights:  [-0.2      0.03092 -0.01846  0.01112  0.12342]\n",
      "Epoch:  7\n",
      "Weights:  [-0.2      0.03674 -0.0203   0.0144   0.14468]\n",
      "Epoch:  8\n",
      "Weights:  [-0.2      0.04256 -0.02214  0.01768  0.16594]\n",
      "Epoch:  9\n",
      "Weights:  [-0.2      0.04838 -0.02398  0.02096  0.1872 ]\n",
      "Epoch:  10\n",
      "Weights:  [-0.2      0.0542  -0.02582  0.02424  0.20846]\n",
      "Epoch:  11\n",
      "Weights:  [-0.2      0.06002 -0.02766  0.02752  0.22972]\n",
      "Epoch:  12\n",
      "Weights:  [-0.2      0.06584 -0.0295   0.0308   0.25098]\n",
      "Epoch:  13\n",
      "Weights:  [-0.2      0.07166 -0.03134  0.03408  0.27224]\n",
      "Epoch:  14\n",
      "Weights:  [-0.2      0.07748 -0.03318  0.03736  0.2935 ]\n",
      "Epoch:  15\n",
      "Weights:  [-0.2      0.0833  -0.03502  0.04064  0.31476]\n",
      "Epoch:  16\n",
      "Weights:  [-0.2      0.08912 -0.03686  0.04392  0.33602]\n",
      "Epoch:  17\n",
      "Weights:  [-0.2      0.09494 -0.0387   0.0472   0.35728]\n",
      "Epoch:  18\n",
      "Weights:  [-0.2      0.10076 -0.04054  0.05048  0.37854]\n",
      "Epoch:  19\n",
      "Weights:  [-0.2      0.10658 -0.04238  0.05376  0.3998 ]\n"
     ]
    },
    {
     "data": {
      "image/png": "[encoded data removed]",
      "text/plain": [
       "<Figure size 432x288 with 1 Axes>"
      ]
     },
     "metadata": {
      "needs_background": "light"
     },
     "output_type": "display_data"
    }
   ],
   "source": [
    "ppn4 = Perceptron(eta=0.1, epoch=20)\n",
    "ppn4.train(trainX, trainy)\n",
    "plt.plot(range(1, len(ppn4.errors) + 1), ppn4.errors, marker='o')\n",
    "plt.xlabel('Epochs')\n",
    "plt.ylabel('Number of misclassifications')\n",
    "plt.show()"
   ]
  },
  {
   "cell_type": "code",
   "execution_count": 116,
   "id": "documented-product",
   "metadata": {},
   "outputs": [
    {
     "data": {
      "text/plain": [
       "50.0"
      ]
     },
     "execution_count": 116,
     "metadata": {},
     "output_type": "execute_result"
    }
   ],
   "source": [
    "#Accuracy\n",
    "X1 = cl1[50:70,[0,1,2,3]].astype(np.float64)\n",
    "X2 = cl2[50:70,[0,1,2,3]].astype(np.float64)\n",
    "testX = np.concatenate((X1,X2),axis=0)\n",
    "Y1 = cl1[50:70,[-1]]\n",
    "Y2 = cl2[50:70,[-1]]\n",
    "testY = np.concatenate((Y1,Y2),axis=0)\n",
    "testy = np.where(testY==\"M\",1,-1).astype(np.float64)\n",
    "accClassMvR = []\n",
    "classMvRPredictedY = ppn4.predict(testX)\n",
    "accClassMvR.append(accuracy(testy, classMvRPredictedY))\n",
    "sum(accClassMvR) / len(accClassMvR)\n"
   ]
  }
 ],
 "metadata": {
  "kernelspec": {
   "display_name": "Python 3",
   "language": "python",
   "name": "python3"
  },
  "language_info": {
   "codemirror_mode": {
    "name": "ipython",
    "version": 3
   },
   "file_extension": ".py",
   "mimetype": "text/x-python",
   "name": "python",
   "nbconvert_exporter": "python",
   "pygments_lexer": "ipython3",
   "version": "3.9.1"
  }
 },
 "nbformat": 4,
 "nbformat_minor": 5
}
